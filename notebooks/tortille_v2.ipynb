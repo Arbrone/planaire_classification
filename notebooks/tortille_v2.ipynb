{
 "cells": [
  {
   "cell_type": "markdown",
   "metadata": {},
   "source": [
    "## Se tortille ou non classifieur\n",
    "\n",
    "**But :** Réaliser un CNN qui prédit si un vers se tortille ou non\n",
    "\n",
    "Organisation :\n",
    "* data augmentation car déficite sur le oui\n",
    "* classification binaire *oui* ou *non*"
   ]
  },
  {
   "cell_type": "markdown",
   "metadata": {},
   "source": [
    "### Import"
   ]
  },
  {
   "cell_type": "code",
   "execution_count": 1,
   "metadata": {},
   "outputs": [
    {
     "name": "stderr",
     "output_type": "stream",
     "text": [
      "/media/HDD/planaire_classification/venv/lib/python3.10/site-packages/tqdm/auto.py:22: TqdmWarning: IProgress not found. Please update jupyter and ipywidgets. See https://ipywidgets.readthedocs.io/en/stable/user_install.html\n",
      "  from .autonotebook import tqdm as notebook_tqdm\n"
     ]
    }
   ],
   "source": [
    "from os import listdir\n",
    "\n",
    "import matplotlib.pyplot as plt\n",
    "import matplotlib.cm as cm\n",
    "\n",
    "import numpy as np\n",
    "\n",
    "import torch\n",
    "import torch.nn as nn\n",
    "import torch.optim as optim\n",
    "import torch.nn.functional as F\n",
    "import torchvision.models as models\n",
    "\n",
    "import torchvision\n",
    "from torchvision.io import read_image\n",
    "from torchvision import transforms as T\n",
    "from torchvision.io import read_image\n",
    "\n",
    "from torch.utils.tensorboard import SummaryWriter\n",
    "\n",
    "import skimage.transform\n",
    "\n",
    "import time\n",
    "import copy"
   ]
  },
  {
   "cell_type": "markdown",
   "metadata": {},
   "source": [
    "### Prétraitement datasets"
   ]
  },
  {
   "cell_type": "code",
   "execution_count": 42,
   "metadata": {},
   "outputs": [],
   "source": [
    "data_dir = \"../data/images_croped_color/tortille_dataset\""
   ]
  },
  {
   "cell_type": "code",
   "execution_count": 43,
   "metadata": {},
   "outputs": [],
   "source": [
    "def get_dataset_infos(path, nb_frames=4):\n",
    "    \n",
    "    def get_key(elem):\n",
    "        return float(elem[:elem.index('.jpg')])\n",
    "\n",
    "    class_path = listdir(path)\n",
    "    data = []\n",
    "    labels = []\n",
    "    for c in class_path:\n",
    "        videos_path = listdir(f\"{path}/{c}\")\n",
    "        for v in videos_path :\n",
    "            imgs = listdir(f\"{path}/{c}/{v}\")\n",
    "            imgs.sort(key=get_key)\n",
    "\n",
    "            for i in range(len(imgs)):\n",
    "                temp = imgs[i:i+nb_frames]      \n",
    "                if len(temp)%nb_frames == 0:\n",
    "                    #frames = [read_image(f\"{path}/{c}/{v}/{i}\") for i in temp]\n",
    "                    frames = [f\"{path}/{c}/{v}/{i}\" for i in temp]\n",
    "                    data.append(frames) \n",
    "                    #data.append(temp) \n",
    "                    labels.append(int(c))\n",
    "    \n",
    "    return data, labels"
   ]
  },
  {
   "cell_type": "code",
   "execution_count": 44,
   "metadata": {},
   "outputs": [],
   "source": [
    "nb_frames = 5\n",
    "\n",
    "videos_frames_train, labels_train = get_dataset_infos(f\"{data_dir}/train\", nb_frames=nb_frames)\n",
    "videos_frames_val, labels_val = get_dataset_infos(f\"{data_dir}/val\", nb_frames=nb_frames)"
   ]
  },
  {
   "cell_type": "code",
   "execution_count": 45,
   "metadata": {},
   "outputs": [
    {
     "data": {
      "text/plain": [
       "[['../data/images_croped_color/tortille_dataset/val/1/168/9.jpg',\n",
       "  '../data/images_croped_color/tortille_dataset/val/1/168/10.jpg',\n",
       "  '../data/images_croped_color/tortille_dataset/val/1/168/11.jpg',\n",
       "  '../data/images_croped_color/tortille_dataset/val/1/168/12.jpg',\n",
       "  '../data/images_croped_color/tortille_dataset/val/1/168/13.jpg'],\n",
       " ['../data/images_croped_color/tortille_dataset/val/1/166/1.jpg',\n",
       "  '../data/images_croped_color/tortille_dataset/val/1/166/2.jpg',\n",
       "  '../data/images_croped_color/tortille_dataset/val/1/166/3.jpg',\n",
       "  '../data/images_croped_color/tortille_dataset/val/1/166/4.jpg',\n",
       "  '../data/images_croped_color/tortille_dataset/val/1/166/5.jpg']]"
      ]
     },
     "execution_count": 45,
     "metadata": {},
     "output_type": "execute_result"
    }
   ],
   "source": [
    "videos_frames_val[:2]"
   ]
  },
  {
   "cell_type": "markdown",
   "metadata": {},
   "source": [
    "### Calcul std et mean"
   ]
  },
  {
   "cell_type": "code",
   "execution_count": 2,
   "metadata": {},
   "outputs": [],
   "source": [
    "class MyDataset(torch.utils.data.Dataset):\n",
    "    def __init__(self, path, transform=None):\n",
    "        self.data = [f\"{path}/{i}\" for i in listdir(path)]\n",
    "        self.transform =transform\n",
    "        \n",
    "    def __getitem__(self, index):\n",
    "        x = read_image(self.data[index])\n",
    "        if self.transform:\n",
    "                x = self.transform(x)\n",
    "        return x\n",
    "\n",
    "    def __len__(self):\n",
    "        return len(self.data)"
   ]
  },
  {
   "cell_type": "code",
   "execution_count": 3,
   "metadata": {},
   "outputs": [],
   "source": [
    "transform = T.Compose([T.ConvertImageDtype(dtype=torch.float32)])\n",
    "\n",
    "#dataset = MyDataset(\"../data/images_croped_color/all\",transform=transform)\n",
    "dataset = MyDataset(\"../data/images/all\",transform=transform)\n",
    "loader = torch.utils.data.DataLoader(\n",
    "    dataset,\n",
    "    batch_size=10,\n",
    "    shuffle=False\n",
    ")"
   ]
  },
  {
   "cell_type": "code",
   "execution_count": 4,
   "metadata": {},
   "outputs": [],
   "source": [
    "mean = 0.\n",
    "std = 0.\n",
    "nb_samples = 0.\n",
    "for data in loader:\n",
    "    batch_samples = data.size(0)\n",
    "    data = data.view(batch_samples, data.size(1), -1)\n",
    "    mean += data.mean(2).sum(0)\n",
    "    std += data.std(2).sum(0)\n",
    "    nb_samples += batch_samples\n",
    "\n",
    "mean /= nb_samples\n",
    "std /= nb_samples"
   ]
  },
  {
   "cell_type": "code",
   "execution_count": 5,
   "metadata": {},
   "outputs": [
    {
     "data": {
      "text/plain": [
       "(tensor([0.6248, 0.5959, 0.5339]), tensor([0.1259, 0.1148, 0.1080]))"
      ]
     },
     "execution_count": 5,
     "metadata": {},
     "output_type": "execute_result"
    }
   ],
   "source": [
    "mean,std"
   ]
  },
  {
   "cell_type": "code",
   "execution_count": 46,
   "metadata": {},
   "outputs": [],
   "source": [
    "mean  = [0.6837, 0.6463, 0.5815]\n",
    "std = [0.1203, 0.1112, 0.1055]"
   ]
  },
  {
   "cell_type": "markdown",
   "metadata": {},
   "source": [
    "## Création du Dataset"
   ]
  },
  {
   "cell_type": "code",
   "execution_count": 47,
   "metadata": {},
   "outputs": [],
   "source": [
    "class ImageDataset(torch.utils.data.Dataset):\n",
    "    def __init__(self, videos_frames, labels, device='cpu', transform=None, target_transform=None):\n",
    "        self.transform = transform\n",
    "        self.target_transform = target_transform\n",
    "        self.videos = videos_frames\n",
    "        self.labels = labels\n",
    "    \n",
    "    def __getitem__(self, index):\n",
    "        \n",
    "        frames = []\n",
    "        label = torch.tensor(self.labels[index], dtype=torch.long).to(device)\n",
    "        \n",
    "        #print(self.videos[index])\n",
    "        for f in self.videos[index]:\n",
    "            frame = read_image(f)\n",
    "            if self.transform:\n",
    "                frame = self.transform(frame).to(device)\n",
    "            frames.append(frame)\n",
    "\n",
    "        return torch.stack(frames), label\n",
    "        \n",
    "    def __len__(self):\n",
    "        return len(self.videos)"
   ]
  },
  {
   "cell_type": "code",
   "execution_count": 48,
   "metadata": {},
   "outputs": [],
   "source": [
    "transform = T.Compose([\n",
    "                        #T.Resize((224,224)),\n",
    "                        T.ConvertImageDtype(dtype=torch.float32),\n",
    "                        T.Normalize(mean=mean, std=std)])"
   ]
  },
  {
   "cell_type": "code",
   "execution_count": 49,
   "metadata": {},
   "outputs": [
    {
     "name": "stdout",
     "output_type": "stream",
     "text": [
      "cuda:0\n"
     ]
    }
   ],
   "source": [
    "device = torch.device(\"cuda:0\" if torch.cuda.is_available() else \"cpu\")\n",
    "print(device)"
   ]
  },
  {
   "cell_type": "code",
   "execution_count": 50,
   "metadata": {},
   "outputs": [
    {
     "data": {
      "text/plain": [
       "{'train': 1621, 'val': 760}"
      ]
     },
     "execution_count": 50,
     "metadata": {},
     "output_type": "execute_result"
    }
   ],
   "source": [
    "dataset_train = ImageDataset(videos_frames_train, labels_train, device=device, transform=transform)\n",
    "dataset_val = ImageDataset(videos_frames_val, labels_val, device=device, transform=transform)\n",
    "\n",
    "dataset_sizes = {'train':len(videos_frames_train),\n",
    "                 'val':len(videos_frames_val)}\n",
    "\n",
    "dataset_sizes"
   ]
  },
  {
   "cell_type": "code",
   "execution_count": 51,
   "metadata": {},
   "outputs": [],
   "source": [
    "batch_size = 16\n",
    "\n",
    "train_dataloader = torch.utils.data.DataLoader(dataset_train, batch_size=batch_size, shuffle=True)\n",
    "val_dataloader = torch.utils.data.DataLoader(dataset_val, batch_size=batch_size, shuffle=True)\n",
    "\n",
    "dataloaders = {'train':train_dataloader,\n",
    "                'val':val_dataloader}"
   ]
  },
  {
   "cell_type": "code",
   "execution_count": 12,
   "metadata": {},
   "outputs": [
    {
     "name": "stdout",
     "output_type": "stream",
     "text": [
      "torch.Size([16, 5, 3, 224, 224]) tensor([0, 1, 0, 1, 1, 1, 0, 0, 1, 1, 1, 1, 1, 1, 1, 0], device='cuda:0')\n"
     ]
    }
   ],
   "source": [
    "imgs, labs = next(iter(val_dataloader))\n",
    "print(imgs.size(), labs)"
   ]
  },
  {
   "cell_type": "code",
   "execution_count": 16,
   "metadata": {},
   "outputs": [],
   "source": [
    "grid = torchvision.utils.make_grid(imgs[1])"
   ]
  },
  {
   "cell_type": "code",
   "execution_count": 17,
   "metadata": {},
   "outputs": [
    {
     "data": {
      "image/png": "[encoded data removed]",
      "text/plain": [
       "<Figure size 432x288 with 1 Axes>"
      ]
     },
     "metadata": {},
     "output_type": "display_data"
    }
   ],
   "source": [
    "def show(imgs):\n",
    "    if not isinstance(imgs, list):\n",
    "        imgs = [imgs]\n",
    "    fix, axs = plt.subplots(ncols=len(imgs), squeeze=False)\n",
    "    for i, img in enumerate(imgs):\n",
    "        img = img.detach()\n",
    "        img = torchvision.transforms.functional.to_pil_image(img)\n",
    "        axs[0, i].imshow(np.asarray(img))\n",
    "        axs[0, i].set(xticklabels=[], yticklabels=[], xticks=[], yticks=[])\n",
    "\n",
    "show(grid)"
   ]
  },
  {
   "cell_type": "markdown",
   "metadata": {},
   "source": [
    "### CNN"
   ]
  },
  {
   "cell_type": "markdown",
   "metadata": {},
   "source": [
    "## Custom model"
   ]
  },
  {
   "cell_type": "code",
   "execution_count": 39,
   "metadata": {},
   "outputs": [],
   "source": [
    "class CNNLSTM(nn.Module):\n",
    "    def __init__(self, num_classes=2):\n",
    "        super(CNNLSTM, self).__init__()\n",
    "        self.resnet = torchvision.models.resnet101(pretrained=True)\n",
    "        self.resnet.fc = nn.Sequential(nn.Linear(self.resnet.fc.in_features, 300))\n",
    "        self.lstm = nn.LSTM(input_size=300, hidden_size=256, num_layers=3)\n",
    "        self.fc1 = nn.Linear(256, 128)\n",
    "        self.fc2 = nn.Linear(128, num_classes)\n",
    "       \n",
    "    def forward(self, x_3d):\n",
    "        hidden = None\n",
    "        for t in range(x_3d.size(1)):\n",
    "            with torch.no_grad():\n",
    "                x = self.resnet(x_3d[:, t, :, :, :])  \n",
    "            out, hidden = self.lstm(x.unsqueeze(0), hidden)         \n",
    "\n",
    "        x = self.fc1(out[-1, :, :])\n",
    "        x = F.relu(x)\n",
    "        x = self.fc2(x)\n",
    "        return x"
   ]
  },
  {
   "cell_type": "code",
   "execution_count": 52,
   "metadata": {},
   "outputs": [],
   "source": [
    "class CNNLSTM(nn.Module):\n",
    "    def __init__(self, num_classes=2):\n",
    "        super(CNNLSTM, self).__init__()\n",
    "        self.conv1 = nn.Conv2d(in_channels=3,\n",
    "                               out_channels=8,\n",
    "                               kernel_size=3)\n",
    "        self.bn1 = nn.BatchNorm2d(8) # nb de channels out\n",
    "\n",
    "        self.conv2 = nn.Conv2d(in_channels=8,\n",
    "                               out_channels=16,\n",
    "                               kernel_size=3)\n",
    "        self.bn2 = nn.BatchNorm2d(16) # nb de channels out\n",
    "        \n",
    "        self.conv3 = nn.Conv2d(in_channels=16,\n",
    "                               out_channels=32,\n",
    "                               kernel_size=3)\n",
    "        self.bn3 = nn.BatchNorm2d(32) # nb de channels out\n",
    "        \n",
    "        self.pool = nn.MaxPool2d(2, 2)\n",
    "        \n",
    "        self.dropout = nn.Dropout()\n",
    "\n",
    "        self.out_cnn = nn.Linear(56448, 500)\n",
    "\n",
    "        self.lstm = nn.LSTM(input_size=500, hidden_size=256, num_layers=3)\n",
    "        self.fc1 = nn.Linear(256, 128)\n",
    "        self.fc2 = nn.Linear(128, num_classes)\n",
    "       \n",
    "    def forward(self, x_3d):\n",
    "        hidden = None\n",
    "        for t in range(x_3d.size(1)):\n",
    "            with torch.no_grad():\n",
    "                x = self.pool(self.bn1(F.relu(self.conv1(x_3d[:, t, :, :, :]))))\n",
    "                \n",
    "                x = self.pool(self.bn2(F.relu(self.conv2(x))))\n",
    "                \n",
    "                x = self.pool(self.bn3(F.relu(self.conv3(x))))\n",
    "                \n",
    "\n",
    "\n",
    "                x = x.view(-1, 56448) # flatten\n",
    "                #x = torch.flatten(x)\n",
    "                x = F.relu(self.out_cnn(self.dropout(x)))\n",
    "\n",
    "            out, hidden = self.lstm(x.unsqueeze(0), hidden)         \n",
    "\n",
    "        x = self.fc1(out[-1, :, :])\n",
    "        x = F.relu(x)\n",
    "        x = self.fc2(x)\n",
    "        return x"
   ]
  },
  {
   "cell_type": "code",
   "execution_count": 13,
   "metadata": {},
   "outputs": [],
   "source": [
    "from utils import AverageMeter, calculate_accuracy\n",
    "import random\n",
    "\n",
    "def train_epoch(model, data_loader, criterion, optimizer, epoch, log_interval, device):\n",
    "    model.train()\n",
    " \n",
    "    train_loss = 0.0\n",
    "    losses = AverageMeter()\n",
    "    accuracies = AverageMeter()\n",
    "    for batch_idx, (data, targets) in enumerate(data_loader):\n",
    "        data, targets = data.to(device), targets.to(device)\n",
    "        outputs = model(data.float())\n",
    "        loss = criterion(outputs, targets)\n",
    "        acc = calculate_accuracy(outputs, targets)\n",
    "\n",
    "        train_loss += loss.item()\n",
    "        losses.update(loss.item(), data.size(0))\n",
    "        accuracies.update(acc, data.size(0))\n",
    "\n",
    "        optimizer.zero_grad()\n",
    "        loss.backward()\n",
    "        optimizer.step()\n",
    "\n",
    "        if (batch_idx + 1) % log_interval == 0:\n",
    "            avg_loss = train_loss / log_interval\n",
    "            # print('Train Epoch: {} [{}/{} ({:.0f}%)]\\tLoss: {:.6f}'.format(\n",
    "            #     epoch, (batch_idx + 1) * len(data), len(data_loader.dataset), 100. * (batch_idx + 1) / len(data_loader), avg_loss))\n",
    "            # train_loss = 0.0\n",
    "\n",
    "    print('Train set ({:d} samples): Average loss: {:.4f}\\tAcc: {:.4f}%'.format(\n",
    "        len(data_loader.dataset), losses.avg, accuracies.avg * 100))\n",
    "\n",
    "    return losses.avg, accuracies.avg\n",
    "\n",
    "\n",
    "def val_epoch(model, data_loader, criterion, device):\n",
    "    model.eval()\n",
    "\n",
    "    losses = AverageMeter()\n",
    "    accuracies = AverageMeter()\n",
    "    with torch.no_grad():\n",
    "        for (data, targets) in data_loader:\n",
    "            data, targets = data.to(device), targets.to(device)\n",
    "            outputs = model(data.float())  \n",
    "\n",
    "            loss = criterion(outputs, targets)\n",
    "            acc = calculate_accuracy(outputs, targets)\n",
    "\n",
    "            losses.update(loss.item(), data.size(0))\n",
    "            accuracies.update(acc, data.size(0))\n",
    "\n",
    "    # show info\n",
    "    print('Validation set ({:d} samples): Average loss: {:.4f}\\tAcc: {:.4f}%'.format(len(data_loader.dataset), losses.avg, accuracies.avg * 100))\n",
    "    return losses.avg, accuracies.avg\n"
   ]
  },
  {
   "cell_type": "code",
   "execution_count": 30,
   "metadata": {},
   "outputs": [],
   "source": [
    "def train(model, dataloaders):\n",
    "\ttrain_loader, val_loader = (dataloaders['train'], dataloaders['val'])\n",
    "\n",
    "\tcrnn_params = list(model.parameters())\n",
    "\toptimizer = torch.optim.Adam(crnn_params, lr=1e-3, weight_decay=1e-3)\n",
    "\t# scheduler = lr_scheduler.ReduceLROnPlateau(\n",
    "\t# \toptimizer, 'min', patience=opt.lr_patience)\n",
    "\tcriterion = nn.CrossEntropyLoss()\n",
    "\n",
    "\t# tensorboard\n",
    "\tsummary_writer = SummaryWriter(log_dir='tf_logs_custom')\n",
    "\n",
    "\tn_epochs = 15\n",
    "\t# start training\n",
    "\tfor epoch in range(n_epochs):\n",
    "\t\tprint('Epoch {}/{}'.format(epoch, n_epochs - 1))\n",
    "\t\tprint('-' * 10)\n",
    "\t\ttrain_loss, train_acc = train_epoch(\n",
    "\t\t\tmodel, train_loader, criterion, optimizer, epoch, 10, device)\n",
    "\t\tval_loss, val_acc = val_epoch(\n",
    "\t\t\tmodel, val_loader, criterion, device)\n",
    "\t\t# saving weights to checkpoint\n",
    "\t\tif (epoch) % 2 == 0 or epoch == n_epochs - 1:\n",
    "\t\t\t# scheduler.step(val_loss)\n",
    "\t\t\t# write summary\n",
    "\t\t\tsummary_writer.add_scalar(\n",
    "\t\t\t\t'losses/train_loss', train_loss, global_step=epoch)\n",
    "\t\t\tsummary_writer.add_scalar(\n",
    "\t\t\t\t'losses/val_loss', val_loss, global_step=epoch)\n",
    "\t\t\tsummary_writer.add_scalar(\n",
    "\t\t\t\t'acc/train_acc', train_acc * 100, global_step=epoch)\n",
    "\t\t\tsummary_writer.add_scalar(\n",
    "\t\t\t\t'acc/val_acc', val_acc * 100, global_step=epoch)\n",
    "\t\t\tstate = {'epoch': epoch, 'state_dict': model.state_dict(), 'optimizer_state_dict': optimizer.state_dict()}\n",
    "\t\t\t# torch.save(state, os.path.join('snapshots', f'cnnlstm-Epoch-{epoch}-Loss-{val_loss}.pth'))\n",
    "\t\t\t# print(\"Epoch {} model saved!\\n\".format(epoch))"
   ]
  },
  {
   "cell_type": "code",
   "execution_count": 53,
   "metadata": {},
   "outputs": [],
   "source": [
    "model = CNNLSTM().to(device)"
   ]
  },
  {
   "cell_type": "code",
   "execution_count": 54,
   "metadata": {},
   "outputs": [
    {
     "name": "stdout",
     "output_type": "stream",
     "text": [
      "Epoch 0/14\n",
      "----------\n",
      "Train set (1621 samples): Average loss: 0.5007\tAcc: 75.5706%\n",
      "Validation set (760 samples): Average loss: 0.6441\tAcc: 68.5526%\n",
      "Epoch 1/14\n",
      "----------\n",
      "Train set (1621 samples): Average loss: 0.3126\tAcc: 87.7236%\n",
      "Validation set (760 samples): Average loss: 0.3621\tAcc: 84.4737%\n",
      "Epoch 2/14\n",
      "----------\n",
      "Train set (1621 samples): Average loss: 0.2423\tAcc: 90.6231%\n",
      "Validation set (760 samples): Average loss: 0.7763\tAcc: 74.6053%\n",
      "Epoch 3/14\n",
      "----------\n",
      "Train set (1621 samples): Average loss: 0.1882\tAcc: 92.8439%\n",
      "Validation set (760 samples): Average loss: 0.5514\tAcc: 80.5263%\n",
      "Epoch 4/14\n",
      "----------\n",
      "Train set (1621 samples): Average loss: 0.2066\tAcc: 92.2270%\n",
      "Validation set (760 samples): Average loss: 0.5291\tAcc: 84.3421%\n",
      "Epoch 5/14\n",
      "----------\n",
      "Train set (1621 samples): Average loss: 0.1292\tAcc: 94.8180%\n",
      "Validation set (760 samples): Average loss: 0.4331\tAcc: 82.3684%\n",
      "Epoch 6/14\n",
      "----------\n",
      "Train set (1621 samples): Average loss: 0.1091\tAcc: 95.8667%\n",
      "Validation set (760 samples): Average loss: 0.7314\tAcc: 76.1842%\n",
      "Epoch 7/14\n",
      "----------\n",
      "Train set (1621 samples): Average loss: 0.1027\tAcc: 95.6817%\n",
      "Validation set (760 samples): Average loss: 0.4743\tAcc: 88.2895%\n",
      "Epoch 8/14\n",
      "----------\n",
      "Train set (1621 samples): Average loss: 0.0598\tAcc: 98.2727%\n",
      "Validation set (760 samples): Average loss: 0.4598\tAcc: 83.2895%\n",
      "Epoch 9/14\n",
      "----------\n",
      "Train set (1621 samples): Average loss: 0.0659\tAcc: 97.5941%\n",
      "Validation set (760 samples): Average loss: 0.5835\tAcc: 80.2632%\n",
      "Epoch 10/14\n",
      "----------\n",
      "Train set (1621 samples): Average loss: 0.0592\tAcc: 97.8408%\n",
      "Validation set (760 samples): Average loss: 0.6491\tAcc: 86.3158%\n",
      "Epoch 11/14\n",
      "----------\n",
      "Train set (1621 samples): Average loss: 0.0617\tAcc: 97.4707%\n",
      "Validation set (760 samples): Average loss: 1.4752\tAcc: 78.0263%\n",
      "Epoch 12/14\n",
      "----------\n",
      "Train set (1621 samples): Average loss: 0.0725\tAcc: 97.7791%\n",
      "Validation set (760 samples): Average loss: 0.9272\tAcc: 82.5000%\n",
      "Epoch 13/14\n",
      "----------\n",
      "Train set (1621 samples): Average loss: 0.0661\tAcc: 97.9642%\n",
      "Validation set (760 samples): Average loss: 0.7537\tAcc: 83.2895%\n",
      "Epoch 14/14\n",
      "----------\n",
      "Train set (1621 samples): Average loss: 0.0619\tAcc: 97.6558%\n",
      "Validation set (760 samples): Average loss: 0.9821\tAcc: 77.5000%\n"
     ]
    }
   ],
   "source": [
    "out = train(model, dataloaders)"
   ]
  },
  {
   "cell_type": "markdown",
   "metadata": {},
   "source": [
    "### Analyse"
   ]
  },
  {
   "cell_type": "markdown",
   "metadata": {},
   "source": [
    "|  Images | nb frames | intervale | précision |centrée|\n",
    "| :---------------: |:---------------:| :-----:| :-----:| :-----:|\n",
    "|640x470|4|1|84%|\n",
    "|640x470|5|1|88%|\n",
    "|350x350|4|1|90%|\n",
    "|350x350|5|1|92%|\n",
    "|350x350|5|||\n",
    "|350x350|6|0.5|76%|"
   ]
  },
  {
   "cell_type": "code",
   "execution_count": 17,
   "metadata": {},
   "outputs": [],
   "source": [
    "best_model_state = model.state_dict()\n",
    "torch.save(best_model_state, f\"../models/cnn_ltsm_croped_{nb_frames}.pt\")"
   ]
  },
  {
   "cell_type": "code",
   "execution_count": 43,
   "metadata": {},
   "outputs": [
    {
     "name": "stdout",
     "output_type": "stream",
     "text": [
      "torch.Size([1, 5, 3, 224, 224]) tensor([0], device='cuda:0')\n"
     ]
    }
   ],
   "source": [
    "imgs, labs = next(iter(val_dataloader))\n",
    "print(imgs.size(),labs)"
   ]
  },
  {
   "cell_type": "code",
   "execution_count": 15,
   "metadata": {},
   "outputs": [],
   "source": [
    "model_dict = torch.load(\"../models/cnn_ltsm_croped_5.pt\")"
   ]
  },
  {
   "cell_type": "code",
   "execution_count": null,
   "metadata": {},
   "outputs": [],
   "source": [
    "model = CNNLSTM().to(device)\n",
    "model.load_state_dict(model_dict)\n",
    "model.eval()"
   ]
  },
  {
   "cell_type": "code",
   "execution_count": 45,
   "metadata": {},
   "outputs": [
    {
     "data": {
      "text/plain": [
       "tensor([[ 4.0280, -3.8961]], device='cuda:0', grad_fn=<AddmmBackward0>)"
      ]
     },
     "execution_count": 45,
     "metadata": {},
     "output_type": "execute_result"
    }
   ],
   "source": [
    "model.eval()\n",
    "predict = model(imgs)\n",
    "predict"
   ]
  },
  {
   "cell_type": "code",
   "execution_count": 46,
   "metadata": {},
   "outputs": [
    {
     "data": {
      "text/plain": [
       "0"
      ]
     },
     "execution_count": 46,
     "metadata": {},
     "output_type": "execute_result"
    }
   ],
   "source": [
    "p = np.argmax(predict.cpu().detach().numpy())\n",
    "p"
   ]
  }
 ],
 "metadata": {
  "interpreter": {
   "hash": "78be8d37a39e65287cbd96c05103aebc10323086b89f9e52fcc8287c267e7ef6"
  },
  "kernelspec": {
   "display_name": "Python 3.10.4 ('venv': venv)",
   "language": "python",
   "name": "python3"
  },
  "language_info": {
   "codemirror_mode": {
    "name": "ipython",
    "version": 3
   },
   "file_extension": ".py",
   "mimetype": "text/x-python",
   "name": "python",
   "nbconvert_exporter": "python",
   "pygments_lexer": "ipython3",
   "version": "3.10.5"
  },
  "orig_nbformat": 4
 },
 "nbformat": 4,
 "nbformat_minor": 2
}
